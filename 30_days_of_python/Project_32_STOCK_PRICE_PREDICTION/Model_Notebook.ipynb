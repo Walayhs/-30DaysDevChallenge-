{
  "cells": [
    {
      "cell_type": "markdown",
      "metadata": {
        "id": "yN8N3DWHwVpf"
      },
      "source": [
        "# Importing Necessary Libraries"
      ]
    },
    {
      "cell_type": "code",
      "execution_count": null,
      "metadata": {},
      "outputs": [],
      "source": [
        "! pip install numpy\n",
        "! pip install pandas\n",
        "! pip install matplotlib\n",
        "! pip install keras"
      ]
    },
    {
      "cell_type": "code",
      "execution_count": null,
      "metadata": {
        "id": "DIhIsJNcbzyp"
      },
      "outputs": [],
      "source": [
        "import numpy as np\n",
        "import pandas as pd\n",
        "import matplotlib.pyplot as plt\n",
        "from keras.models import Sequential\n",
        "from keras.layers import Dense,LSTM,Bidirectional,Input,Dropout"
      ]
    },
    {
      "cell_type": "markdown",
      "metadata": {
        "id": "7r2M6EwCwckk"
      },
      "source": [
        "# Reading the Dataset"
      ]
    },
    {
      "cell_type": "code",
      "execution_count": null,
      "metadata": {
        "id": "LD3oGLgYdlc6"
      },
      "outputs": [],
      "source": [
        "data=pd.read_csv('google_dataset.csv')"
      ]
    },
    {
      "cell_type": "code",
      "execution_count": null,
      "metadata": {
        "colab": {
          "base_uri": "https://localhost:8080/",
          "height": 195
        },
        "id": "FcA2lTdadrqw",
        "outputId": "7dac10f7-2564-41c7-8c32-a1adda31f09d"
      },
      "outputs": [],
      "source": [
        "data.head()"
      ]
    },
    {
      "cell_type": "markdown",
      "metadata": {
        "id": "8ATB9RZHwgFd"
      },
      "source": [
        "# Extracting the Closing Price"
      ]
    },
    {
      "cell_type": "code",
      "execution_count": null,
      "metadata": {
        "id": "QNXfLYJxdvOE"
      },
      "outputs": [],
      "source": [
        "close_price=data['close']"
      ]
    },
    {
      "cell_type": "code",
      "execution_count": null,
      "metadata": {
        "colab": {
          "base_uri": "https://localhost:8080/"
        },
        "id": "tEEIdniagHP_",
        "outputId": "e435fc01-0aea-4c56-9125-8ea449488953"
      },
      "outputs": [],
      "source": [
        "close_price"
      ]
    },
    {
      "cell_type": "code",
      "execution_count": null,
      "metadata": {
        "id": "8OIKqgPogIRm"
      },
      "outputs": [],
      "source": [
        "close_price=np.array(close_price)"
      ]
    },
    {
      "cell_type": "code",
      "execution_count": null,
      "metadata": {
        "colab": {
          "base_uri": "https://localhost:8080/"
        },
        "id": "1GMeFBaxgOjp",
        "outputId": "1d7645e8-405f-4f61-9bca-3b776eee21ee"
      },
      "outputs": [],
      "source": [
        "close_price"
      ]
    },
    {
      "cell_type": "code",
      "execution_count": null,
      "metadata": {
        "colab": {
          "base_uri": "https://localhost:8080/"
        },
        "id": "XwXHouUjgb8H",
        "outputId": "053d6b34-b0f9-40f6-97fe-652b3d4db4f3"
      },
      "outputs": [],
      "source": [
        "close_price.shape"
      ]
    },
    {
      "cell_type": "markdown",
      "metadata": {
        "id": "s6n0Wt90wnG4"
      },
      "source": [
        "# Plotting the closing price"
      ]
    },
    {
      "cell_type": "code",
      "execution_count": null,
      "metadata": {
        "colab": {
          "base_uri": "https://localhost:8080/",
          "height": 282
        },
        "id": "S3aFGZ9dlhae",
        "outputId": "3c974b33-5efa-499b-b78f-e85c2529a8df"
      },
      "outputs": [],
      "source": [
        "plt.plot(close_price)"
      ]
    },
    {
      "cell_type": "markdown",
      "metadata": {
        "id": "Ch16lR8Cwsir"
      },
      "source": [
        "# Applying MinMax Scaler"
      ]
    },
    {
      "cell_type": "code",
      "execution_count": null,
      "metadata": {
        "id": "MXwiXeK3IXfh"
      },
      "outputs": [],
      "source": [
        "from sklearn.preprocessing import MinMaxScaler"
      ]
    },
    {
      "cell_type": "code",
      "execution_count": null,
      "metadata": {
        "id": "k-KDDSYjIvwy"
      },
      "outputs": [],
      "source": [
        "minmax=MinMaxScaler()"
      ]
    },
    {
      "cell_type": "code",
      "execution_count": null,
      "metadata": {
        "id": "jlAKTYdeI0GA"
      },
      "outputs": [],
      "source": [
        "close_price=minmax.fit_transform(close_price.reshape(-1,1))"
      ]
    },
    {
      "cell_type": "code",
      "execution_count": null,
      "metadata": {
        "colab": {
          "base_uri": "https://localhost:8080/"
        },
        "id": "wtFy1qPCI_rD",
        "outputId": "a9c01f18-9a37-4730-f059-5a5fe1161d96"
      },
      "outputs": [],
      "source": [
        "minmax.data_min_"
      ]
    },
    {
      "cell_type": "code",
      "execution_count": null,
      "metadata": {
        "colab": {
          "base_uri": "https://localhost:8080/"
        },
        "id": "4kL-6IYdJdhu",
        "outputId": "8f40f5ff-f147-46d4-dd96-8ade174a5217"
      },
      "outputs": [],
      "source": [
        "minmax.data_max_"
      ]
    },
    {
      "cell_type": "markdown",
      "metadata": {
        "id": "Pak8Sr7twwyC"
      },
      "source": [
        "# Converting the data into time stamps of 100 days"
      ]
    },
    {
      "cell_type": "code",
      "execution_count": null,
      "metadata": {
        "id": "BUYOL7E0gPOl"
      },
      "outputs": [],
      "source": [
        "sample=[]\n",
        "data_stamps=[]\n",
        "price=[]\n",
        "\n",
        "\n",
        "for i in range(1157):\n",
        "  sample=[]\n",
        "  for j in range(i,100+i):\n",
        "    sample.append(close_price[j])\n",
        "  price.append(close_price[100+i])\n",
        "  data_stamps.append(sample)"
      ]
    },
    {
      "cell_type": "code",
      "execution_count": null,
      "metadata": {
        "id": "4abBKl7pkUu7"
      },
      "outputs": [],
      "source": [
        "data_stamps=np.array(data_stamps)"
      ]
    },
    {
      "cell_type": "code",
      "execution_count": null,
      "metadata": {
        "colab": {
          "base_uri": "https://localhost:8080/"
        },
        "id": "RWXctcFumoPX",
        "outputId": "0a7c7de2-dbb1-4d71-cef0-4b8b9269d55c"
      },
      "outputs": [],
      "source": [
        "data_stamps.shape"
      ]
    },
    {
      "cell_type": "code",
      "execution_count": null,
      "metadata": {
        "id": "1rII_5zSsoR5"
      },
      "outputs": [],
      "source": [
        "price=np.array(price)"
      ]
    },
    {
      "cell_type": "code",
      "execution_count": null,
      "metadata": {
        "colab": {
          "base_uri": "https://localhost:8080/"
        },
        "id": "MzosglwIssdE",
        "outputId": "a13b4eff-0dc8-4041-8c02-43d4b68d2fdd"
      },
      "outputs": [],
      "source": [
        "price.shape"
      ]
    },
    {
      "cell_type": "markdown",
      "metadata": {
        "id": "V3LLGZViw4EW"
      },
      "source": [
        "# Splitting the datastamps into training and testing samples"
      ]
    },
    {
      "cell_type": "code",
      "execution_count": null,
      "metadata": {
        "id": "o2JoZMuSpUBD"
      },
      "outputs": [],
      "source": [
        "x_train=data_stamps[:int(0.7*len(list(data_stamps)))]\n",
        "y_train=price[:int(0.7*len(list(data_stamps)))]\n",
        "\n",
        "x_test=data_stamps[int(0.7*len(list(data_stamps))):]\n",
        "y_test=price[int(0.7*len(list(data_stamps))):]\n"
      ]
    },
    {
      "cell_type": "markdown",
      "metadata": {
        "id": "npxZ_Yiew-0n"
      },
      "source": [
        "# Defining a nueral network"
      ]
    },
    {
      "cell_type": "code",
      "execution_count": null,
      "metadata": {
        "id": "Se7CghEiosgv"
      },
      "outputs": [],
      "source": [
        "model=Sequential()\n",
        "model.add(Bidirectional(LSTM(100,return_sequences=True),input_shape=(100,1)))\n",
        "model.add(Bidirectional(LSTM(100)))\n",
        "model.add(Dense(64,activation='relu'))\n",
        "model.add(Dense(1,activation='linear'))\n"
      ]
    },
    {
      "cell_type": "code",
      "execution_count": null,
      "metadata": {
        "colab": {
          "base_uri": "https://localhost:8080/"
        },
        "id": "8bSxERhPqbuO",
        "outputId": "7fade20c-e167-4beb-b73e-acbab0b81de2"
      },
      "outputs": [],
      "source": [
        "model.summary()"
      ]
    },
    {
      "cell_type": "code",
      "execution_count": null,
      "metadata": {
        "id": "opq6AdbPoqvk"
      },
      "outputs": [],
      "source": [
        "model.compile(optimizer='Adam',loss='mse')"
      ]
    },
    {
      "cell_type": "markdown",
      "metadata": {
        "id": "ffEAVYk2xEC9"
      },
      "source": [
        "# Training a model"
      ]
    },
    {
      "cell_type": "code",
      "execution_count": null,
      "metadata": {
        "colab": {
          "base_uri": "https://localhost:8080/"
        },
        "id": "CpolnA2kr5EH",
        "outputId": "b87abedc-c9af-4362-9338-855c63d51852"
      },
      "outputs": [],
      "source": [
        "model.fit(x=x_train,y=y_train,epochs=50)"
      ]
    },
    {
      "cell_type": "code",
      "execution_count": null,
      "metadata": {
        "colab": {
          "base_uri": "https://localhost:8080/"
        },
        "id": "mJJERmYvqokX",
        "outputId": "6727394d-c429-498f-e0a1-6842e45aa5d2"
      },
      "outputs": [],
      "source": [
        "model.evaluate(x_test,y_test)"
      ]
    },
    {
      "cell_type": "markdown",
      "metadata": {
        "id": "BTIhVTfvxTTX"
      },
      "source": [
        "# Predicting the test data"
      ]
    },
    {
      "cell_type": "code",
      "execution_count": null,
      "metadata": {
        "id": "QGgw3vCPqrz9"
      },
      "outputs": [],
      "source": [
        "y_pred=model.predict(x_test)"
      ]
    },
    {
      "cell_type": "code",
      "execution_count": null,
      "metadata": {
        "colab": {
          "base_uri": "https://localhost:8080/"
        },
        "id": "wTvNqk2Sq0hP",
        "outputId": "4008507d-ec34-48f2-c910-ce8683843539"
      },
      "outputs": [],
      "source": [
        "y_pred"
      ]
    },
    {
      "cell_type": "markdown",
      "metadata": {
        "id": "h29dCFyNxaGv"
      },
      "source": [
        "# Plotting closing prices of testing vs predicted data"
      ]
    },
    {
      "cell_type": "code",
      "execution_count": null,
      "metadata": {
        "colab": {
          "base_uri": "https://localhost:8080/",
          "height": 282
        },
        "id": "XrROPgSsq1yd",
        "outputId": "97eeb308-2482-4da1-b969-58681423e8ae"
      },
      "outputs": [],
      "source": [
        "plt.plot(y_pred)"
      ]
    },
    {
      "cell_type": "code",
      "execution_count": null,
      "metadata": {
        "colab": {
          "base_uri": "https://localhost:8080/",
          "height": 282
        },
        "id": "PEQn6XdGq96U",
        "outputId": "47683f3a-ad10-4ac9-f44e-cee02db70e7b"
      },
      "outputs": [],
      "source": [
        "plt.plot(y_test)"
      ]
    },
    {
      "cell_type": "markdown",
      "metadata": {
        "id": "FG0lNM2txiyL"
      },
      "source": [
        "# Saving the model"
      ]
    },
    {
      "cell_type": "code",
      "execution_count": null,
      "metadata": {
        "id": "8owfMUsPrCO1"
      },
      "outputs": [],
      "source": [
        "model.save('model.h5')"
      ]
    },
    {
      "cell_type": "code",
      "execution_count": null,
      "metadata": {
        "id": "uPnWoVrvs-iR"
      },
      "outputs": [],
      "source": []
    }
  ],
  "metadata": {
    "accelerator": "GPU",
    "colab": {
      "name": "Model Notebook.ipynb",
      "provenance": []
    },
    "kernelspec": {
      "display_name": "Python 3",
      "name": "python3"
    },
    "language_info": {
      "codemirror_mode": {
        "name": "ipython",
        "version": 3
      },
      "file_extension": ".py",
      "mimetype": "text/x-python",
      "name": "python",
      "nbconvert_exporter": "python",
      "pygments_lexer": "ipython3",
      "version": "3.12.4"
    }
  },
  "nbformat": 4,
  "nbformat_minor": 0
}
